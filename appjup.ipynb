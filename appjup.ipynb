{
  "nbformat": 4,
  "nbformat_minor": 0,
  "metadata": {
    "accelerator": "GPU",
    "colab": {
      "name": "appjup.ipynb",
      "provenance": [],
      "collapsed_sections": []
    },
    "kernelspec": {
      "display_name": "Python 3",
      "language": "python",
      "name": "python3"
    },
    "language_info": {
      "codemirror_mode": {
        "name": "ipython",
        "version": 3
      },
      "file_extension": ".py",
      "mimetype": "text/x-python",
      "name": "python",
      "nbconvert_exporter": "python",
      "pygments_lexer": "ipython3",
      "version": "3.7.9"
    }
  },
  "cells": [
    {
      "cell_type": "code",
      "metadata": {
        "id": "8UxZC1eLa47T",
        "colab": {
          "base_uri": "https://localhost:8080/"
        },
        "outputId": "df2b853e-f162-4425-a49a-e3faee56aa5b"
      },
      "source": [
        "from google.colab import drive\n",
        "drive.mount('/content/drive')"
      ],
      "execution_count": null,
      "outputs": [
        {
          "output_type": "stream",
          "text": [
            "Mounted at /content/drive\n"
          ],
          "name": "stdout"
        }
      ]
    },
    {
      "cell_type": "code",
      "metadata": {
        "colab": {
          "base_uri": "https://localhost:8080/"
        },
        "id": "hH0bnWSjOj2I",
        "outputId": "5786be47-c3c0-4f18-ac09-c48062a7315a"
      },
      "source": [
        "\n",
        "%%writefile app.py\n",
        "import streamlit as st\n",
        "import tensorflow as tf\n",
        "import cv2\n",
        "from PIL import Image ,ImageOps\n",
        "import numpy as np\n",
        " \n",
        "@st.cache(allow_output_mutation=True)\n",
        "def load_model():\n",
        "  model=tf.keras.models.load_model('/content/drive/MyDrive/Plant Disease Detection/my_model_weights.hdf5')\n",
        "  return model\n",
        "\n",
        "model=load_model()\n",
        "st.write(\"\"\"\n",
        "# Plant Disease Detection\n",
        "\n",
        "\"\"\")\n",
        "\n",
        "file=st.file_uploader(\"pleas upload an plant image\",type=[\"jpg\",\"png\"])\n",
        "\n",
        "def import_and_predict(image_data , model):\n",
        "  size=(256,256)\n",
        "  image = ImageOps.fit(image_data,size,Image.ANTIALIAS)\n",
        "  img=np.asarray(image)\n",
        "  img_reshape=img[np.newaxis,...]\n",
        "  prediction=model.predict(img_reshape)\n",
        "  return prediction\n",
        "\n",
        "\n",
        "\n",
        "if file is None:\n",
        "  st.text(\"pleas uplod an image file \")\n",
        "else:\n",
        "  image=Image.open(file)\n",
        "  st.image(image,use_column_width=True)\n",
        "  predictions=import_and_predict(image,model)\n",
        "  class_names=['Pepper__bell___Bacterial_spot', 'Pepper__bell___healthy', 'Potato___Early_blight', 'Potato___Late_blight', 'Potato___healthy']\n",
        "  string=\"this iamge most likely is:\"+class_names[np.argmax(predictions)]\n",
        "  st.success(string)"
      ],
      "execution_count": null,
      "outputs": [
        {
          "output_type": "stream",
          "text": [
            "Overwriting app.py\n"
          ],
          "name": "stdout"
        }
      ]
    },
    {
      "cell_type": "code",
      "metadata": {
        "id": "0VUS93O_wvSa"
      },
      "source": [
        "!pip install streamlit -q"
      ],
      "execution_count": null,
      "outputs": []
    },
    {
      "cell_type": "code",
      "metadata": {
        "colab": {
          "base_uri": "https://localhost:8080/"
        },
        "id": "ei-XgobgyMJO",
        "outputId": "77d1ac06-0315-42de-f789-f61847bda027"
      },
      "source": [
        "!wget https://bin.equinox.io/c/4VmDzA7iaHb/ngrok-stable-linux-amd64.zip\n",
        "!unzip -qq ngrok-stable-linux-amd64.zip"
      ],
      "execution_count": null,
      "outputs": [
        {
          "output_type": "stream",
          "text": [
            "--2020-12-01 19:59:43--  https://bin.equinox.io/c/4VmDzA7iaHb/ngrok-stable-linux-amd64.zip\n",
            "Resolving bin.equinox.io (bin.equinox.io)... 107.21.11.91, 34.196.154.11, 34.206.212.97, ...\n",
            "Connecting to bin.equinox.io (bin.equinox.io)|107.21.11.91|:443... connected.\n",
            "HTTP request sent, awaiting response... 200 OK\n",
            "Length: 13773305 (13M) [application/octet-stream]\n",
            "Saving to: ‘ngrok-stable-linux-amd64.zip.5’\n",
            "\n",
            "\r          ngrok-sta   0%[                    ]       0  --.-KB/s               \r         ngrok-stab  90%[=================>  ]  11.95M  59.7MB/s               \rngrok-stable-linux- 100%[===================>]  13.13M  62.7MB/s    in 0.2s    \n",
            "\n",
            "2020-12-01 19:59:43 (62.7 MB/s) - ‘ngrok-stable-linux-amd64.zip.5’ saved [13773305/13773305]\n",
            "\n",
            "replace ngrok? [y]es, [n]o, [A]ll, [N]one, [r]ename: y\n"
          ],
          "name": "stdout"
        }
      ]
    },
    {
      "cell_type": "code",
      "metadata": {
        "colab": {
          "base_uri": "https://localhost:8080/"
        },
        "id": "72eM81fayMTX",
        "outputId": "bc0d3e6c-dc29-42aa-d00d-7c27de2a420d"
      },
      "source": [
        "get_ipython().system_raw('./ngrok http 8501 &')\n",
        "! curl -s http://localhost:4040/api/tunnels | python3 -c \\\n",
        "    \"import sys, json; print(json.load(sys.stdin)['tunnels'][0]['public_url'])\""
      ],
      "execution_count": null,
      "outputs": [
        {
          "output_type": "stream",
          "text": [
            "https://b7dd992d547d.ngrok.io\n"
          ],
          "name": "stdout"
        }
      ]
    },
    {
      "cell_type": "code",
      "metadata": {
        "id": "9o14iuO3yaGO"
      },
      "source": [
        "!streamlit run app.py"
      ],
      "execution_count": null,
      "outputs": []
    },
    {
      "cell_type": "code",
      "metadata": {
        "id": "IBVKNVbX4w6t"
      },
      "source": [
        ""
      ],
      "execution_count": null,
      "outputs": []
    }
  ]
}